{
 "cells": [
  {
   "cell_type": "markdown",
   "metadata": {},
   "source": [
    "# Web Mining and Applied NLP (44-620)\n",
    "\n",
    "## Web Scraping and NLP with Requests, BeautifulSoup, and spaCy\n",
    "\n",
    "### Student Name: Malcolm Phillip\n",
    "### GitHub link: https://github.com/MPhillipS556427/620-mod6-web-scraping.git \n",
    "\n",
    "Perform the tasks described in the Markdown cells below.  When you have completed the assignment make sure your code cells have all been run (and have output beneath them) and ensure you have committed and pushed ALL of your changes to your assignment repository.\n",
    "\n",
    "Every question that requires you to write code will have a code cell underneath it; you may either write your entire solution in that cell or write it in a python file (`.py`), then import and run the appropriate code to answer the question."
   ]
  },
  {
   "cell_type": "markdown",
   "metadata": {},
   "source": [
    "## Question 1: \n",
    "Write code that extracts the article html from https://web.archive.org/web/20210327165005/https://hackaday.com/2021/03/22/how-laser-headlights-work/ and dumps it to a .pkl (or other appropriate file)"
   ]
  },
  {
   "cell_type": "code",
   "execution_count": 43,
   "metadata": {},
   "outputs": [
    {
     "name": "stdout",
     "output_type": "stream",
     "text": [
      "Article HTML saved to 'article.pkl' successfully.\n"
     ]
    }
   ],
   "source": [
    "import requests\n",
    "import pickle\n",
    "from bs4 import BeautifulSoup\n",
    "\n",
    "def get_article_html(url):\n",
    "    try:\n",
    "        response = requests.get(url)\n",
    "        if response.status_code == 200:\n",
    "            soup = BeautifulSoup(response.content, 'html.parser')\n",
    "            article_html = str(soup.select_one('article'))\n",
    "            return article_html\n",
    "        else:\n",
    "            print(f\"Failed to fetch the webpage. Status code: {response.status_code}\")\n",
    "            return None\n",
    "    except requests.RequestException as e:\n",
    "        print(f\"Error occurred during the request: {e}\")\n",
    "        return None\n",
    "\n",
    "if __name__ == \"__main__\":\n",
    "    url = \"https://web.archive.org/web/20210327165005/https://hackaday.com/2021/03/22/how-laser-headlights-work/\"\n",
    "    article_html = get_article_html(url)\n",
    "    if article_html:\n",
    "        with open(\"article.pkl\", \"wb\") as file:\n",
    "            pickle.dump(article_html, file)\n",
    "            print(\"Article HTML saved to 'article.pkl' successfully.\")\n"
   ]
  },
  {
   "cell_type": "markdown",
   "metadata": {},
   "source": [
    "## Question 2:\n",
    "Read in your article's html source from the file you created in question 1 and print it's text (use `.get_text()`)"
   ]
  },
  {
   "cell_type": "code",
   "execution_count": 44,
   "metadata": {},
   "outputs": [
    {
     "name": "stdout",
     "output_type": "stream",
     "text": [
      "\n",
      "\n",
      "How Laser Headlights Work\n",
      "\n",
      "\n",
      "                130 Comments            \n",
      "\n",
      "by:\n",
      "Lewin Day\n",
      "\n",
      "\n",
      "\n",
      "March 22, 2021\n",
      "\n",
      "\n",
      "\n",
      "\n",
      "\n",
      "\n",
      "\n",
      "\n",
      "When we think about the onward march of automotive technology, headlights aren’t usually the first thing that come to mind. Engines, fuel efficiency, and the switch to electric power are all more front of mind. However, that doesn’t mean there aren’t thousands of engineers around the world working to improve the state of the art in automotive lighting day in, day out.\n",
      "Sealed beam headlights gave way to more modern designs once regulations loosened up, while bulbs moved from simple halogens to xenon HIDs and, more recently, LEDs. Now, a new technology is on the scene, with lasers!\n",
      "\n",
      "Laser Headlights?!\n",
      "BWM’s prototype laser headlight assemblies undergoing testing.\n",
      "The first image brought to mind by the phrase “laser headlights” is that of laser beams firing out the front of an automobile. Obviously, coherent beams of monochromatic light would make for poor illumination outside of a very specific spot quite some distance away. Thankfully for our eyes, laser headlights don’t work in this way at all.\n",
      "Instead, laser headlights consist of one or more solid state laser diodes mounted inside the headlight. These blue lasers are fired at a yellow phosphor, similar to that used in white LEDs. This produces a powerful, vibrant white light that can then be bounced off reflectors and out of the headlights towards the road. Laser headlights built in this way have several benefits. They’re more energy efficient than LEDs that put out the same amount of light, while also being more space efficient, too.\n",
      "BWM’s futuristic i8 was one of the first vehicles to ship with laser headlight technology.\n",
      "Laser headlights are still a nascent technology, thus far only appearing in a few BMW, Audi, and other select vehicles. BMW’s technology was developed in partnership with lighting experts OSRAM. In practice, a regular LED low-beam lamp is used, with the laser used to create an incredibly bright and focused spot, used for high-beams. This can provide illumination out to 600 meters ahead of the vehicle, double that of conventional LED high beams. The lights use indium gallium nitride diode lasers that were originally used in projectors, with power levels above 1 watt. One of the challenges in implementing such technology in an automotive environment is the need for it to operate at temperature extremes. While research lasers and laser pointers may primarily be used at typical room temperatures, automotive headlights must be able to withstand everything from 40 degrees below zero up to 50 degrees C. Thankfully, the laser’s high efficiency means it doesn’t have huge heat output of its own to further complicate things. Other engineering challenges involve tailoring the optics package for the rough-and-tumble, high vibration environment found in the automotive application. It’s also important to ensure, as with any such device, that the end user can’t be exposed to harmful laser radiation in the event of accident or malfunction.\n",
      "Tearing Down the Laser Headlight\n",
      "A marketing image showing the construction of an aftermarket LED/laser headlight. We’d take the laser power with a grain of salt — it’s difficult to imagine a 10 W laser shining directly on some small LEDs without melting a hole through the board in short order.\n",
      "An aftermarket has sprung up too, with delightfully innovative designs. Combined laser/LED headlights are readily available on Alibaba, designed as a drop in replacement for projector lamps on existing vehicles. These often use an LED low-beam, and a combined LED/laser high beam, where the laser diode shoots directly at the LED phosphor to excite it further, rather than using its own. These units often also come with fan cooling to keep the laser and LEDs below their maximum operational temperature. Such developments are exciting, though it’s important to be wary of the performance of unknown aftermarket headlights. Many aftermarket LED headlight “upgrades” fail to pass muster when it comes to real-world performance, and there’s no reason to believe hybrid LED/laser designs will be any different. We’d love to pass a selection of these parts through a full IIHS test protocol, but that’s sadly beyond the scope (and budget!) of this article.\n",
      "However, [mikeselectricstuff] has happened to lay his hands on both the BMW and aftermarket parts, tearing them all down in his workshop to see what makes them tick. The differences are multitude when laid bare on the bench. The AliExpress part is relatively simple, wired up no differently from a regular headlight. Interestingly, however, the laser high-beam circuit runs all the time in these parts. To prevent blinding other road users, a shutter is kept in place to block the light, which is moved out of the way with a solenoid when the driver turns on the high beam switch.\n",
      "Where the aftermarket part is a little out of left field, the BMW design is another thing entirely. The cutting-edge headlights are hooked up with multiple connectors and over 30 conductors, with much of the driver electronics living in an external controller. Much of this is to drive the various LEDs and stepper motors for slewing the headlights when steering. However, the laser assembly brings its own complexities. Twin light sensors are built inside to monitor the laser beam, and a special metal blocking arm sits directly in front of the diode, presumably to stop the laser light leaving the headlight in the event the phosphor coating burns through. It’s truly wild to get a look inside a modern luxury car’s headlight and see just how far we’ve come from the old days of simple sealed beams.\n",
      "Cost Versus Performance\n",
      "Despite the efficiency gains available, the technology remains expensive. Powerful laser diodes don’t come cheap, after all. However, as the technology trickles down to lower-end models, it’s likely that we could see economies of scale change that for the better. Indeed, if national authorities begin to demand higher performance headlights as standard, we could see laser headlights become the norm, rather than an expensive luxury. The technology could naturally be applied to home and commercial lighting, too — though we suspect the potential gains are limited enough that LED lighting will remain the norm for some time to come.\n",
      "The high light output of laser headlights in a compact package allows engineers greater freedom when designing the front-end of a car.\n",
      "As it currently stands, much of the appeal of the new technology is about the packaging benefits, which allow automotive designers greater freedom around the headlight area. Such concerns are less of a factor when it comes to light fittings in the home or office, or indeed, on lower-end automobiles. Regardless, it’s an exciting new application for lasers and one we’ll be sure to see more of in the future.\n",
      " \n",
      "\n",
      "\n",
      "\n",
      "\n",
      " \n",
      "\n",
      "\n",
      "\n",
      "\n",
      "\n",
      "\n",
      "\n",
      "\n",
      "\n",
      "\n",
      "\n",
      "\n",
      "\n",
      "\n",
      "\n",
      "\n",
      "\n",
      "\n",
      "\n",
      "Posted in car hacks, Engineering, Featured, Laser Hacks, SliderTagged laser, laser headlight, laser headlights, light \n",
      "\n"
     ]
    }
   ],
   "source": [
    "import pickle\n",
    "from bs4 import BeautifulSoup\n",
    "\n",
    "if __name__ == \"__main__\":\n",
    "    try:\n",
    "        with open(\"article.pkl\", \"rb\") as file:\n",
    "            article_html = pickle.load(file)\n",
    "            soup = BeautifulSoup(article_html, 'html.parser')\n",
    "            article_text = soup.get_text()\n",
    "            print(article_text)\n",
    "    except FileNotFoundError:\n",
    "        print(\"File 'article.pkl' not found.\")\n",
    "    except Exception as e:\n",
    "        print(f\"An error occurred: {e}\")"
   ]
  },
  {
   "cell_type": "markdown",
   "metadata": {},
   "source": [
    "## Question 3:\n",
    "Load the article text into a trained `spaCy` pipeline, and determine the 5 most frequent tokens (converted to lower case).  Print the common tokens with an appropriate label.  Additionally, print the tokens their frequencies (with appropriate labels). Make sure to remove things we don't care about (punctuation, stopwords, whitespace)."
   ]
  },
  {
   "cell_type": "code",
   "execution_count": 45,
   "metadata": {},
   "outputs": [
    {
     "name": "stdout",
     "output_type": "stream",
     "text": [
      "Five most frequent tokens:\n",
      "laser: 35 occurrences\n",
      "headlights: 19 occurrences\n",
      "headlight: 11 occurrences\n",
      "technology: 10 occurrences\n",
      "led: 10 occurrences\n"
     ]
    }
   ],
   "source": [
    "import pickle\n",
    "import spacy\n",
    "from collections import Counter\n",
    "import string\n",
    "from spacy.lang.en.stop_words import STOP_WORDS\n",
    "\n",
    "def preprocess_text(text):\n",
    "    \n",
    "    nlp = spacy.load(\"en_core_web_sm\")\n",
    "    \n",
    "    \n",
    "    doc = nlp(text)\n",
    "\n",
    "    \n",
    "    tokens = [token.text.lower() for token in doc if token.text.lower() not in STOP_WORDS and token.text.lower() not in string.punctuation and not token.is_space]\n",
    "    \n",
    "    return tokens\n",
    "\n",
    "if __name__ == \"__main__\":\n",
    "    try:\n",
    "        with open(\"article.pkl\", \"rb\") as file:\n",
    "            article_html = pickle.load(file)\n",
    "            soup = BeautifulSoup(article_html, 'html.parser')\n",
    "            article_text = soup.get_text()\n",
    "\n",
    "            \n",
    "            tokens = preprocess_text(article_text)\n",
    "\n",
    "            \n",
    "            most_common_tokens = Counter(tokens).most_common(5)\n",
    "\n",
    "            print(\"Five most frequent tokens:\")\n",
    "            for token, frequency in most_common_tokens:\n",
    "                print(f\"{token}: {frequency} occurrences\")\n",
    "\n",
    "    except FileNotFoundError:\n",
    "        print(\"File 'article.pkl' not found.\")\n",
    "    except Exception as e:\n",
    "        print(f\"An error occurred: {e}\")\n"
   ]
  },
  {
   "cell_type": "markdown",
   "metadata": {},
   "source": [
    "## Question 4:\n",
    "Load the article text into a trained `spaCy` pipeline, and determine the 5 most frequent lemmas (converted to lower case).  Print the common lemmas with an appropriate label.  Additionally, print the lemmas with their frequencies (with appropriate labels). Make sure to remove things we don't care about (punctuation, stopwords, whitespace)."
   ]
  },
  {
   "cell_type": "code",
   "execution_count": 46,
   "metadata": {},
   "outputs": [
    {
     "name": "stdout",
     "output_type": "stream",
     "text": [
      "Top 5 most frequent lemmas:\n",
      "'laser': 40\n",
      "'headlight': 28\n",
      "'beam': 12\n",
      "'technology': 10\n",
      "'light': 10\n"
     ]
    }
   ],
   "source": [
    "import pickle\n",
    "import spacy\n",
    "from collections import Counter\n",
    "import string\n",
    "\n",
    "nlp = spacy.load(\"en_core_web_sm\")\n",
    "\n",
    "def preprocess_text(text):\n",
    "\n",
    "    doc = nlp(text)\n",
    "\n",
    "    filtered_tokens = [token.lemma_.lower() for token in doc if not token.is_punct and not token.is_stop and not token.is_space]\n",
    "\n",
    "    return filtered_tokens\n",
    "\n",
    "if __name__ == \"__main__\":\n",
    "    try:\n",
    "        with open(\"article.pkl\", \"rb\") as file:\n",
    "            article_html = pickle.load(file)\n",
    "            soup = BeautifulSoup(article_html, 'html.parser')\n",
    "            article_text = soup.get_text()\n",
    "\n",
    "            lemmas = preprocess_text(article_text)\n",
    "\n",
    "            lemma_frequencies = Counter(lemmas)\n",
    "\n",
    "            most_common_lemmas = lemma_frequencies.most_common(5)\n",
    "\n",
    "            print(\"Top 5 most frequent lemmas:\")\n",
    "            for lemma, frequency in most_common_lemmas:\n",
    "                print(f\"'{lemma}': {frequency}\")\n",
    "\n",
    "    except FileNotFoundError:\n",
    "        print(\"File 'article.pkl' not found.\")\n",
    "    except Exception as e:\n",
    "        print(f\"An error occurred: {e}\")\n"
   ]
  },
  {
   "cell_type": "markdown",
   "metadata": {},
   "source": [
    "## Question 5: \n",
    "\n",
    "Define the following methods:\n",
    "    * `score_sentence_by_token(sentence, interesting_token)` that takes a sentence and a list of interesting token and returns the number of times that any of the interesting words appear in the sentence divided by the number of words in the sentence\n",
    "    * `score_sentence_by_lemma(sentence, interesting_lemmas)` that takes a sentence and a list of interesting lemmas and returns the number of times that any of the interesting lemmas appear in the sentence divided by the number of words in the sentence\n",
    "    \n",
    "You may find some of the code from the in class notes useful; feel free to use methods (rewrite them in this cell as well).  Test them by showing the score of the first sentence in your article using the frequent tokens and frequent lemmas identified in question 3."
   ]
  },
  {
   "cell_type": "code",
   "execution_count": 53,
   "metadata": {},
   "outputs": [
    {
     "name": "stdout",
     "output_type": "stream",
     "text": [
      "\n",
      "Score of the first sentence using tokens: 0.09375\n",
      "Score of the first sentence using lemmas: 0.17647058823529413\n"
     ]
    }
   ],
   "source": [
    "def score_sentence_by_token(sentence, interesting_tokens):\n",
    "    words = sentence.lower().split()\n",
    "    num_words = len(words)\n",
    "    num_interesting = sum(1 for word in words if word in interesting_tokens)\n",
    "    return num_interesting / num_words\n",
    "\n",
    "def score_sentence_by_lemma(sentence, interesting_lemmas):\n",
    "    doc = nlp(sentence)\n",
    "    lemmas = [token.lemma_.lower() for token in doc if token.is_alpha and token.lower_ not in STOP_WORDS]\n",
    "    num_words = len(lemmas)\n",
    "    num_interesting = sum(1 for lemma in lemmas if lemma in interesting_lemmas)\n",
    "    return num_interesting / num_words\n",
    "\n",
    "# Test the scoring functions on the first sentence of the article\n",
    "first_sentence = article_text.split(\".\")[0]\n",
    "print(\"\\nScore of the first sentence using tokens:\", score_sentence_by_token(first_sentence, interesting_tokens))\n",
    "print(\"Score of the first sentence using lemmas:\", score_sentence_by_lemma(first_sentence, interesting_lemmas))\n"
   ]
  },
  {
   "cell_type": "markdown",
   "metadata": {},
   "source": [
    "## Question 6:\n",
    "Make a list containing the scores (using tokens) of every sentence in the article, and plot a histogram with appropriate titles and axis labels of the scores. From your histogram, what seems to be the most common range of scores (put the answer in a comment after your code)?"
   ]
  },
  {
   "cell_type": "code",
   "execution_count": 93,
   "metadata": {},
   "outputs": [
    {
     "data": {
      "image/png": "[encoded data removed]",
      "text/plain": [
       "<Figure size 640x480 with 1 Axes>"
      ]
     },
     "metadata": {},
     "output_type": "display_data"
    }
   ],
   "source": [
    "import matplotlib.pyplot as plt\n",
    "\n",
    "\n",
    "sentences = [sent.text for sent in doc.sents]\n",
    "\n",
    "\n",
    "interesting_tokens = [token for token, _ in most_common_tokens]\n",
    "scores_by_tokens = [score_sentence_by_token(sentence, interesting_tokens) for sentence in sentences]\n",
    "\n",
    "\n",
    "plt.hist(scores_by_tokens, bins=20, edgecolor=\"red\")\n",
    "plt.title(\"Distribution of Sentence Scores by Tokens\")\n",
    "plt.xlabel(\"Score\")\n",
    "plt.ylabel(\"Frequency\")\n",
    "plt.show()"
   ]
  },
  {
   "cell_type": "markdown",
   "metadata": {},
   "source": [
    "## The most common range of scores in the histogram is likely to be around 0.0 to 0.1."
   ]
  },
  {
   "cell_type": "markdown",
   "metadata": {},
   "source": [
    "## Question 7:\n",
    "Make a list containing the scores (using lemmas) of every sentence in the article, and plot a histogram with appropriate titles and axis labels of the scores.  From your histogram, what seems to be the most common range of scores (put the answer in a comment after your code)?"
   ]
  },
  {
   "cell_type": "code",
   "execution_count": 97,
   "metadata": {},
   "outputs": [
    {
     "data": {
      "image/png": "[encoded data removed]",
      "text/plain": [
       "<Figure size 640x480 with 1 Axes>"
      ]
     },
     "metadata": {},
     "output_type": "display_data"
    }
   ],
   "source": [
    "import matplotlib.pyplot as plt\n",
    "\n",
    "\n",
    "def score_sentence_by_lemma(sentence, interesting_lemmas):\n",
    "    doc = nlp(sentence)\n",
    "    lemmas = [token.lemma_.lower() for token in doc if token.is_alpha and token.lemma_.lower() not in STOP_WORDS]\n",
    "    num_words = len(lemmas)\n",
    "    num_interesting = sum(1 for lemma in lemmas if lemma in interesting_lemmas)\n",
    "    return num_interesting / num_words\n",
    "\n",
    "\n",
    "sentences = [sent.text for sent in nlp(article_text).sents]\n",
    "\n",
    "\n",
    "interesting_lemmas = [lemma for lemma, _ in most_common_lemmas]\n",
    "\n",
    "\n",
    "scores_by_lemmas = [score_sentence_by_lemma(sentence, interesting_lemmas) for sentence in sentences]\n",
    "\n",
    "plt.hist(scores_by_lemmas, bins=20, edgecolor=\"red\")\n",
    "plt.title(\"Distribution of Sentence Scores by Lemmas\")\n",
    "plt.xlabel(\"Score\")\n",
    "plt.ylabel(\"Frequency\")\n",
    "plt.show()"
   ]
  },
  {
   "cell_type": "markdown",
   "metadata": {},
   "source": [
    "## The most common range of scores in the histogram is likely to be around 0.1 to 0.2."
   ]
  },
  {
   "cell_type": "markdown",
   "metadata": {},
   "source": [
    "## Question 8:\n",
    "Which tokens and lexems would be ommitted from the lists generated in questions 3 and 4 if we only wanted to consider nouns as interesting words?  How might we change the code to only consider nouns? Put your answer in this Markdown cell (you can edit it by double clicking it)."
   ]
  },
  {
   "cell_type": "markdown",
   "metadata": {},
   "source": [
    "# :\n",
    "I modified the codes for questions 3 & 4 by introducing a condition in the 'preprocess_text' function. This condition, 'if token.pos_ == \"NOUN,\"' allows the function to process only tokens and lemmas recognized as nouns. Below, you can find the updated version of the 'preprocess_text' function, which will display the identified nouns."
   ]
  },
  {
   "cell_type": "code",
   "execution_count": 106,
   "metadata": {},
   "outputs": [
    {
     "name": "stdout",
     "output_type": "stream",
     "text": [
      "Top 5 most frequent nouns (lemmas):\n",
      "'laser': 35\n",
      "'headlight': 22\n",
      "'beam': 12\n",
      "'technology': 10\n",
      "'led': 6\n",
      "Five most frequent nouns:\n",
      "laser: 30 occurrences\n",
      "headlights: 17 occurrences\n",
      "technology: 10 occurrences\n",
      "beam: 7 occurrences\n",
      "leds: 6 occurrences\n"
     ]
    }
   ],
   "source": [
    "import pickle\n",
    "import spacy\n",
    "from collections import Counter\n",
    "import string\n",
    "\n",
    "nlp = spacy.load(\"en_core_web_sm\")\n",
    "\n",
    "def preprocess_text(text):\n",
    "    doc = nlp(text)\n",
    "    filtered_tokens = [token.lemma_.lower() for token in doc if token.pos_ == \"NOUN\" and not token.is_punct and not token.is_stop and not token.is_space]\n",
    "    return filtered_tokens\n",
    "\n",
    "if __name__ == \"__main__\":\n",
    "    try:\n",
    "        with open(\"article.pkl\", \"rb\") as file:\n",
    "            article_html = pickle.load(file)\n",
    "            soup = BeautifulSoup(article_html, 'html.parser')\n",
    "            article_text = soup.get_text()\n",
    "\n",
    "            lemmas = preprocess_text(article_text)\n",
    "\n",
    "            lemma_frequencies = Counter(lemmas)\n",
    "\n",
    "            most_common_lemmas = lemma_frequencies.most_common(5)\n",
    "\n",
    "            print(\"Top 5 most frequent nouns (lemmas):\")\n",
    "            for lemma, frequency in most_common_lemmas:\n",
    "                print(f\"'{lemma}': {frequency}\")\n",
    "\n",
    "    except FileNotFoundError:\n",
    "        print(\"File 'article.pkl' not found.\")\n",
    "    except Exception as e:\n",
    "        print(f\"An error occurred: {e}\")\n",
    "        \n",
    "def preprocess_text(text):\n",
    "    doc = nlp(text)\n",
    "    tokens = [token.text.lower() for token in doc if token.pos_ == \"NOUN\" and token.text.lower() not in STOP_WORDS and token.text.lower() not in string.punctuation and not token.is_space]\n",
    "    return tokens\n",
    "\n",
    "if __name__ == \"__main__\":\n",
    "    try:\n",
    "        with open(\"article.pkl\", \"rb\") as file:\n",
    "            article_html = pickle.load(file)\n",
    "            soup = BeautifulSoup(article_html, 'html.parser')\n",
    "            article_text = soup.get_text()\n",
    "\n",
    "            tokens = preprocess_text(article_text)\n",
    "\n",
    "            most_common_tokens = Counter(tokens).most_common(5)\n",
    "\n",
    "            print(\"Five most frequent nouns:\")\n",
    "            for token, frequency in most_common_tokens:\n",
    "                print(f\"{token}: {frequency} occurrences\")\n",
    "\n",
    "    except FileNotFoundError:\n",
    "        print(\"File 'article.pkl' not found.\")\n",
    "    except Exception as e:\n",
    "        print(f\"An error occurred: {e}\")\n"
   ]
  },
  {
   "cell_type": "code",
   "execution_count": null,
   "metadata": {},
   "outputs": [],
   "source": []
  }
 ],
 "metadata": {
  "kernelspec": {
   "display_name": "Python 3 (ipykernel)",
   "language": "python",
   "name": "python3"
  },
  "language_info": {
   "codemirror_mode": {
    "name": "ipython",
    "version": 3
   },
   "file_extension": ".py",
   "mimetype": "text/x-python",
   "name": "python",
   "nbconvert_exporter": "python",
   "pygments_lexer": "ipython3",
   "version": "3.9.13"
  }
 },
 "nbformat": 4,
 "nbformat_minor": 4
}
